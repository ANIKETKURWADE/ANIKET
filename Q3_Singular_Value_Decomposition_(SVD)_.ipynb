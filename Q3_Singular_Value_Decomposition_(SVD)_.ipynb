{
  "nbformat": 4,
  "nbformat_minor": 0,
  "metadata": {
    "colab": {
      "provenance": [],
      "authorship_tag": "ABX9TyPS1gdOSTqPxKPXJ1uv2jzW",
      "include_colab_link": true
    },
    "kernelspec": {
      "name": "python3",
      "display_name": "Python 3"
    },
    "language_info": {
      "name": "python"
    }
  },
  "cells": [
    {
      "cell_type": "markdown",
      "metadata": {
        "id": "view-in-github",
        "colab_type": "text"
      },
      "source": [
        "<a href=\"https://colab.research.google.com/github/ANIKETKURWADE/ANIKET/blob/main/Q3_Singular_Value_Decomposition_(SVD)_.ipynb\" target=\"_parent\"><img src=\"https://colab.research.google.com/assets/colab-badge.svg\" alt=\"Open In Colab\"/></a>"
      ]
    },
    {
      "cell_type": "markdown",
      "source": [
        "# **Q3. Singular Value Decomposition (SVD):**"
      ],
      "metadata": {
        "id": "CLc4fhmkmr0Q"
      }
    },
    {
      "cell_type": "code",
      "source": [
        "import numpy as np\n",
        "\n",
        "np.random.seed(24)\n",
        "A = np.random.randint(0, 10, size=(5, 5))\n",
        "\n",
        "# Perform Singular Value Decomposition (SVD) on matrix A\n",
        "U, Sigma, Vt = np.linalg.svd(A)\n",
        "print(\"Matrix U:\")\n",
        "print(U)\n",
        "print(\"\\nMatrix Sigma (Diagonal matrix):\")\n",
        "print(np.diag(Sigma))\n",
        "print(\"\\nMatrix Vt (Transpose of V):\")\n",
        "print(Vt)\n",
        "A_reconstructed = np.dot(U, np.dot(np.diag(Sigma), Vt))\n",
        "print(\"\\nIs A equal to the product of U, Sigma, and Vt? \", np.allclose(A, A_reconstructed))\n",
        "\n",
        "# Rank 2 approximation of matrix A\n",
        "rank_2_approximation = np.dot(U[:, :2], np.dot(np.diag(Sigma[:2]), Vt[:2, :]))\n",
        "print(\"\\nRank 2 approximation of matrix A:\")\n",
        "print(rank_2_approximation)\n",
        "\n",
        "# Rank 3 approximation of matrix A\n",
        "rank_3_approximation = np.dot(U[:, :3], np.dot(np.diag(Sigma[:3]), Vt[:3, :]))\n",
        "print(\"\\nRank 3 approximation of matrix A:\")\n",
        "print(rank_3_approximation)\n"
      ],
      "metadata": {
        "id": "i5qyqpE2arMw",
        "outputId": "2956c92f-cfd9-43e7-f797-040c9faee959",
        "colab": {
          "base_uri": "https://localhost:8080/"
        }
      },
      "execution_count": null,
      "outputs": [
        {
          "output_type": "stream",
          "name": "stdout",
          "text": [
            "Matrix U:\n",
            "[[-0.31711551  0.19846944  0.82724069 -0.09481079  0.40832755]\n",
            " [-0.28636832  0.01911614 -0.37353972  0.58437361  0.66075965]\n",
            " [-0.5422238  -0.5295216  -0.2310952  -0.58640564  0.16829636]\n",
            " [-0.60444462  0.67412143 -0.22587358 -0.06239895 -0.35396962]\n",
            " [-0.39758142 -0.47477534  0.26780041  0.54932066 -0.49299811]]\n",
            "\n",
            "Matrix Sigma (Diagonal matrix):\n",
            "[[21.51927588  0.          0.          0.          0.        ]\n",
            " [ 0.          6.88343047  0.          0.          0.        ]\n",
            " [ 0.          0.          4.56497988  0.          0.        ]\n",
            " [ 0.          0.          0.          2.0233148   0.        ]\n",
            " [ 0.          0.          0.          0.          1.2674014 ]]\n",
            "\n",
            "Matrix Vt (Transpose of V):\n",
            "[[-0.1493515  -0.34820317 -0.3439167  -0.71489023 -0.47655214]\n",
            " [ 0.10245686  0.47505882  0.39689141  0.07303988 -0.77521874]\n",
            " [ 0.08039556  0.02225248 -0.76687284  0.55216021 -0.31633294]\n",
            " [-0.44622674 -0.66561451  0.34142267  0.42140426 -0.25236489]\n",
            " [ 0.87270555 -0.45775083  0.13976807  0.03368519 -0.09044001]]\n",
            "\n",
            "Is A equal to the product of U, Sigma, and Vt?  True\n",
            "\n",
            "Rank 2 approximation of matrix A:\n",
            "[[1.15916053 3.02517381 2.88913412 4.97826318 2.19297217]\n",
            " [0.93385125 2.20829116 2.17159046 4.41507822 2.83471657]\n",
            " [1.3692251  2.33137251 2.56627126 8.07530267 8.38615024]\n",
            " [2.41807374 6.73355217 6.31507953 9.63765234 2.60139138]\n",
            " [0.94296379 1.42657775 1.64536177 5.87766043 6.61069942]]\n",
            "\n",
            "Rank 3 approximation of matrix A:\n",
            "[[ 1.46276126e+00  3.10920667e+00 -6.83623888e-03  7.06340627e+00\n",
            "   9.98392372e-01]\n",
            " [ 7.96760635e-01  2.17034620e+00  3.47926303e+00  3.47353391e+00\n",
            "   3.37412791e+00]\n",
            " [ 1.28441222e+00  2.30789737e+00  3.37527987e+00  7.49280406e+00\n",
            "   8.71986406e+00]\n",
            " [ 2.33517721e+00  6.71060745e+00  7.10580851e+00  9.06831534e+00\n",
            "   2.92756490e+00]\n",
            " [ 1.04124764e+00  1.45378148e+00  7.07857040e-01  6.55267822e+00\n",
            "   6.22398130e+00]]\n"
          ]
        }
      ]
    }
  ]
}